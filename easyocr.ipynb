{
  "nbformat": 4,
  "nbformat_minor": 0,
  "metadata": {
    "colab": {
      "provenance": [],
      "machine_shape": "hm",
      "gpuType": "A100",
      "authorship_tag": "ABX9TyM0FEDGpRVVZqdgJ7ONHcWe",
      "include_colab_link": true
    },
    "kernelspec": {
      "name": "python3",
      "display_name": "Python 3"
    },
    "language_info": {
      "name": "python"
    },
    "accelerator": "GPU"
  },
  "cells": [
    {
      "cell_type": "markdown",
      "metadata": {
        "id": "view-in-github",
        "colab_type": "text"
      },
      "source": [
        "<a href=\"https://colab.research.google.com/github/sbkapelner/multipageOCR/blob/master/easyocr.ipynb\" target=\"_parent\"><img src=\"https://colab.research.google.com/assets/colab-badge.svg\" alt=\"Open In Colab\"/></a>"
      ]
    },
    {
      "cell_type": "code",
      "source": [
        "!pip install easyocr\n",
        "!apt-get update\n",
        "!apt-get install -y imagemagick"
      ],
      "metadata": {
        "id": "ibGbnun7BJWB"
      },
      "execution_count": null,
      "outputs": []
    },
    {
      "cell_type": "code",
      "source": [
        "!for file in *.tif; do convert \"$file\" \"${file%.tif}.png\"; done\n"
      ],
      "metadata": {
        "id": "_XFV9aeW614i"
      },
      "execution_count": null,
      "outputs": []
    },
    {
      "cell_type": "code",
      "execution_count": null,
      "metadata": {
        "collapsed": true,
        "id": "X9TUoB1o5dcW"
      },
      "outputs": [],
      "source": [
        "import os\n",
        "import easyocr\n",
        "from PIL import Image\n",
        "\n",
        "def preprocess_bw_to_rgb(image_path, output_path):\n",
        "    \"\"\"\n",
        "    Convert black-and-white (grayscale) image to RGB format.\n",
        "    \"\"\"\n",
        "    try:\n",
        "        with Image.open(image_path) as img:\n",
        "            # Convert black-and-white to RGB\n",
        "            img = img.convert(\"RGB\")\n",
        "            img.save(output_path, format=\"PNG\")\n",
        "            print(f\"Converted to RGB: {image_path} -> {output_path}\")\n",
        "        return output_path\n",
        "    except Exception as e:\n",
        "        print(f\"Failed to preprocess image: {image_path}, Error: {e}\")\n",
        "        return None\n",
        "\n",
        "def process_bw_images_with_easyocr(input_dir, output_dir, log_file, use_gpu=True):\n",
        "    \"\"\"\n",
        "    Process all black-and-white (.png) images in the input directory using EasyOCR with GPU acceleration,\n",
        "    save results to the output directory, and log errors.\n",
        "    \"\"\"\n",
        "    # Create output directory if it doesn't exist\n",
        "    os.makedirs(output_dir, exist_ok=True)\n",
        "\n",
        "    # Clear the log file if it already exists\n",
        "    if os.path.exists(log_file):\n",
        "        open(log_file, 'w').close()\n",
        "\n",
        "    # Initialize EasyOCR Reader\n",
        "    reader = easyocr.Reader(['en'], gpu=use_gpu)  # Use GPU if available\n",
        "\n",
        "    # Get a list of all PNG files\n",
        "    png_files = [f for f in os.listdir(input_dir) if f.endswith(\".png\")]\n",
        "    total_files = len(png_files)\n",
        "\n",
        "    for index, filename in enumerate(png_files, start=1):\n",
        "        try:\n",
        "            input_path = os.path.join(input_dir, filename)\n",
        "            preprocessed_path = os.path.join(output_dir, f\"preprocessed_{filename}\")\n",
        "\n",
        "            print(f\"[{index}/{total_files}] Processing: {filename}...\")\n",
        "\n",
        "            # Convert black-and-white to RGB\n",
        "            preprocessed_path = preprocess_bw_to_rgb(input_path, preprocessed_path)\n",
        "            if preprocessed_path is None:\n",
        "                print(f\"[{index}/{total_files}] Skipping due to preprocessing error: {filename}\")\n",
        "                continue\n",
        "\n",
        "            # Perform OCR on the preprocessed image\n",
        "            results = reader.readtext(preprocessed_path)\n",
        "\n",
        "            # Save results to a text file\n",
        "            output_path = os.path.join(output_dir, f\"{os.path.splitext(filename)[0]}.txt\")\n",
        "            with open(output_path, 'w') as output_file:\n",
        "                for bbox, text, confidence in results:\n",
        "                    output_file.write(f\"Text: {text}\\nBoundingBox: {bbox}\\nConfidence: {confidence}\\n\\n\")\n",
        "\n",
        "            print(f\"[{index}/{total_files}] Processed: {filename}, results saved to {output_path}\")\n",
        "\n",
        "        except Exception as e:\n",
        "            # Log errors and continue\n",
        "            error_message = f\"Error processing {filename}: {str(e)}\"\n",
        "            print(error_message)\n",
        "            with open(log_file, 'a') as log:\n",
        "                log.write(error_message + \"\\n\")\n",
        "\n",
        "if __name__ == \"__main__\":\n",
        "    # Define input and output directories and log file\n",
        "    input_dir = \"/content/\"  # Update with your PNG file directory\n",
        "    output_dir = \"/content/\"  # Update with desired output directory\n",
        "    log_file = os.path.join(output_dir, \"processing_errors.log\")\n",
        "\n",
        "    # Run the processing function\n",
        "    process_bw_images_with_easyocr(input_dir, output_dir, log_file, use_gpu=True)\n"
      ]
    },
    {
      "cell_type": "code",
      "source": [
        "!zip -r /home/Folder_1_New.zip /content/ -i \"*.png\" \"*.txt\""
      ],
      "metadata": {
        "id": "FEkxU7mL_DhX"
      },
      "execution_count": null,
      "outputs": []
    },
    {
      "cell_type": "code",
      "source": [
        "from google.colab import files\n",
        "files.download('/home/Folder_1_New.zip')"
      ],
      "metadata": {
        "colab": {
          "base_uri": "https://localhost:8080/",
          "height": 17
        },
        "id": "-dtq90HaTTjX",
        "outputId": "9d3351f4-d2c9-44b9-b809-93cb281b5028"
      },
      "execution_count": null,
      "outputs": [
        {
          "output_type": "display_data",
          "data": {
            "text/plain": [
              "<IPython.core.display.Javascript object>"
            ],
            "application/javascript": [
              "\n",
              "    async function download(id, filename, size) {\n",
              "      if (!google.colab.kernel.accessAllowed) {\n",
              "        return;\n",
              "      }\n",
              "      const div = document.createElement('div');\n",
              "      const label = document.createElement('label');\n",
              "      label.textContent = `Downloading \"${filename}\": `;\n",
              "      div.appendChild(label);\n",
              "      const progress = document.createElement('progress');\n",
              "      progress.max = size;\n",
              "      div.appendChild(progress);\n",
              "      document.body.appendChild(div);\n",
              "\n",
              "      const buffers = [];\n",
              "      let downloaded = 0;\n",
              "\n",
              "      const channel = await google.colab.kernel.comms.open(id);\n",
              "      // Send a message to notify the kernel that we're ready.\n",
              "      channel.send({})\n",
              "\n",
              "      for await (const message of channel.messages) {\n",
              "        // Send a message to notify the kernel that we're ready.\n",
              "        channel.send({})\n",
              "        if (message.buffers) {\n",
              "          for (const buffer of message.buffers) {\n",
              "            buffers.push(buffer);\n",
              "            downloaded += buffer.byteLength;\n",
              "            progress.value = downloaded;\n",
              "          }\n",
              "        }\n",
              "      }\n",
              "      const blob = new Blob(buffers, {type: 'application/binary'});\n",
              "      const a = document.createElement('a');\n",
              "      a.href = window.URL.createObjectURL(blob);\n",
              "      a.download = filename;\n",
              "      div.appendChild(a);\n",
              "      a.click();\n",
              "      div.remove();\n",
              "    }\n",
              "  "
            ]
          },
          "metadata": {}
        },
        {
          "output_type": "display_data",
          "data": {
            "text/plain": [
              "<IPython.core.display.Javascript object>"
            ],
            "application/javascript": [
              "download(\"download_74a3be48-a924-42a2-b4c0-ce56f96d4c54\", \"Folder_1_New.zip\", 335684503)"
            ]
          },
          "metadata": {}
        }
      ]
    },
    {
      "cell_type": "code",
      "source": [
        "#Cloud Storage Workaround from Sasfari giving problems\n",
        "from google.cloud import storage\n",
        "\n",
        "# Set up authentication\n",
        "import os\n",
        "os.environ[\"GOOGLE_APPLICATION_CREDENTIALS\"] = \"/content/language-app-323017-566e94dcd421.json\"\n",
        "\n",
        "# Initialize the GCS client\n",
        "client = storage.Client()\n",
        "\n",
        "# Specify your bucket name\n",
        "bucket_name = \"misc_37510\"  # Replace with your bucket name\n",
        "bucket = client.get_bucket(bucket_name)"
      ],
      "metadata": {
        "id": "PMwPsHn1m5iN"
      },
      "execution_count": 45,
      "outputs": []
    },
    {
      "cell_type": "code",
      "source": [
        "import os\n",
        "import zipfile\n",
        "\n",
        "def compress_files_with_associations(directory, output_directory, batch_size=100, zip_prefix=\"Part\"):\n",
        "    \"\"\"\n",
        "    Compress .png files and their associated .txt files into zip files with a maximum of `batch_size` files each.\n",
        "    Ensures each .png file stays with its corresponding .txt file.\n",
        "\n",
        "    :param directory: Directory containing the files to be compressed.\n",
        "    :param output_directory: Directory to save the zip files.\n",
        "    :param batch_size: Number of file pairs (.png + .txt) per zip file.\n",
        "    :param zip_prefix: Prefix for the zip file names.\n",
        "    \"\"\"\n",
        "    # Ensure the output directory exists\n",
        "    os.makedirs(output_directory, exist_ok=True)\n",
        "\n",
        "    # Create a list of pairs of .png and .txt files\n",
        "    all_files = os.listdir(directory)\n",
        "    file_pairs = []\n",
        "    for file in all_files:\n",
        "        if file.endswith(\".png\"):\n",
        "            base_name = os.path.splitext(file)[0]\n",
        "            txt_file = f\"{base_name}.txt\"\n",
        "            file_pair = [file]  # Start with the PNG file\n",
        "            if txt_file in all_files:\n",
        "                file_pair.append(txt_file)  # Add the TXT file if it exists\n",
        "            file_pairs.append(file_pair)\n",
        "\n",
        "    # Flatten the file pairs and batch them\n",
        "    flattened_files = [item for pair in file_pairs for item in pair]\n",
        "    batches = [flattened_files[i:i + batch_size] for i in range(0, len(flattened_files), batch_size)]\n",
        "\n",
        "    # Create zip files for each batch\n",
        "    for idx, batch in enumerate(batches, start=1):\n",
        "        zip_name = os.path.join(output_directory, f\"{zip_prefix}{idx}.zip\")\n",
        "        with zipfile.ZipFile(zip_name, 'w') as zipf:\n",
        "            for file in batch:\n",
        "                file_path = os.path.join(directory, file)\n",
        "                zipf.write(file_path, arcname=file)  # Add files to zip\n",
        "        print(f\"Created: {zip_name}\")\n",
        "\n",
        "# Directory containing the files to compress\n",
        "input_directory = \"/content/\"  # Replace with your directory\n",
        "output_directory = \"/home/\"  # Output directory for the zip files\n",
        "\n",
        "# Compress files into batches of 100\n",
        "compress_files_with_associations(input_directory, output_directory, batch_size=100, zip_prefix=\"Part\")\n"
      ],
      "metadata": {
        "id": "D0L4rahCnH93"
      },
      "execution_count": null,
      "outputs": []
    },
    {
      "cell_type": "code",
      "source": [
        "import os\n",
        "from google.cloud import storage\n",
        "\n",
        "def upload_zip_files_to_gcs(directory, bucket_name, bucket_path=\"\"):\n",
        "    \"\"\"\n",
        "    Upload all .zip files in the specified directory to a GCS bucket.\n",
        "\n",
        "    :param directory: Directory containing the .zip files.\n",
        "    :param bucket_name: Name of the GCS bucket.\n",
        "    :param bucket_path: Path in the bucket where files will be uploaded (optional).\n",
        "    \"\"\"\n",
        "    # Initialize the GCS client\n",
        "    client = storage.Client()\n",
        "    bucket = client.get_bucket(bucket_name)\n",
        "\n",
        "    # Loop through all .zip files in the directory\n",
        "    for file_name in os.listdir(directory):\n",
        "        if file_name.endswith(\".zip\"):\n",
        "            local_path = os.path.join(directory, file_name)\n",
        "            blob_name = os.path.join(bucket_path, file_name)\n",
        "\n",
        "            # Upload the file to GCS\n",
        "            blob = bucket.blob(blob_name)\n",
        "            blob.upload_from_filename(local_path)\n",
        "\n",
        "            print(f\"Uploaded: {local_path} to gs://{bucket_name}/{blob_name}\")\n",
        "\n",
        "# Directory containing the .zip files\n",
        "zip_directory = \"/home/\"\n",
        "\n",
        "# GCS bucket name\n",
        "bucket_name = \"misc_37510\"  # Replace with your GCS bucket name\n",
        "\n",
        "# Path in the bucket where files will be uploaded (optional)\n",
        "bucket_path = \"\"  # Leave empty if you want to upload to the root of the bucket\n",
        "\n",
        "# Upload all .zip files\n",
        "upload_zip_files_to_gcs(zip_directory, bucket_name, bucket_path)\n"
      ],
      "metadata": {
        "id": "BWo3n3qDpTH-"
      },
      "execution_count": null,
      "outputs": []
    },
    {
      "cell_type": "markdown",
      "source": [],
      "metadata": {
        "id": "mQhTcjsvix41"
      }
    }
  ]
}